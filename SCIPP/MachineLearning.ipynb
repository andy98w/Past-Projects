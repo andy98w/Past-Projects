{
 "cells": [
  {
   "cell_type": "code",
   "execution_count": 1,
   "id": "1b73d60a-ddb5-43a1-971a-f5935f8a00b6",
   "metadata": {},
   "outputs": [
    {
     "name": "stdout",
     "output_type": "stream",
     "text": [
      "Requirement already satisfied: keras==2.8 in /opt/conda/lib/python3.9/site-packages (2.8.0)\n",
      "Requirement already satisfied: h5py in /opt/conda/lib/python3.9/site-packages (3.6.0)\n",
      "Requirement already satisfied: numpy>=1.14.5 in /opt/conda/lib/python3.9/site-packages (from h5py) (1.21.6)\n",
      "Collecting keras-tuner\n",
      "  Using cached keras_tuner-1.1.2-py3-none-any.whl (133 kB)\n",
      "Requirement already satisfied: packaging in /opt/conda/lib/python3.9/site-packages (from keras-tuner) (21.3)\n",
      "Collecting kt-legacy\n",
      "  Using cached kt_legacy-1.0.4-py3-none-any.whl (9.6 kB)\n",
      "Requirement already satisfied: requests in /opt/conda/lib/python3.9/site-packages (from keras-tuner) (2.27.1)\n",
      "Requirement already satisfied: tensorboard in /opt/conda/lib/python3.9/site-packages (from keras-tuner) (2.8.0)\n",
      "Requirement already satisfied: ipython in /opt/conda/lib/python3.9/site-packages (from keras-tuner) (8.3.0)\n",
      "Requirement already satisfied: numpy in /opt/conda/lib/python3.9/site-packages (from keras-tuner) (1.21.6)\n",
      "Requirement already satisfied: pickleshare in /opt/conda/lib/python3.9/site-packages (from ipython->keras-tuner) (0.7.5)\n",
      "Requirement already satisfied: pexpect>4.3 in /opt/conda/lib/python3.9/site-packages (from ipython->keras-tuner) (4.8.0)\n",
      "Requirement already satisfied: stack-data in /opt/conda/lib/python3.9/site-packages (from ipython->keras-tuner) (0.2.0)\n",
      "Requirement already satisfied: setuptools>=18.5 in /opt/conda/lib/python3.9/site-packages (from ipython->keras-tuner) (59.8.0)\n",
      "Requirement already satisfied: jedi>=0.16 in /opt/conda/lib/python3.9/site-packages (from ipython->keras-tuner) (0.18.1)\n",
      "Requirement already satisfied: traitlets>=5 in /opt/conda/lib/python3.9/site-packages (from ipython->keras-tuner) (5.2.1.post0)\n",
      "Requirement already satisfied: decorator in /opt/conda/lib/python3.9/site-packages (from ipython->keras-tuner) (5.1.1)\n",
      "Requirement already satisfied: matplotlib-inline in /opt/conda/lib/python3.9/site-packages (from ipython->keras-tuner) (0.1.3)\n",
      "Requirement already satisfied: backcall in /opt/conda/lib/python3.9/site-packages (from ipython->keras-tuner) (0.2.0)\n",
      "Requirement already satisfied: pygments>=2.4.0 in /opt/conda/lib/python3.9/site-packages (from ipython->keras-tuner) (2.12.0)\n",
      "Requirement already satisfied: prompt-toolkit!=3.0.0,!=3.0.1,<3.1.0,>=2.0.0 in /opt/conda/lib/python3.9/site-packages (from ipython->keras-tuner) (3.0.29)\n",
      "Requirement already satisfied: pyparsing!=3.0.5,>=2.0.2 in /opt/conda/lib/python3.9/site-packages (from packaging->keras-tuner) (3.0.9)\n",
      "Requirement already satisfied: idna<4,>=2.5 in /opt/conda/lib/python3.9/site-packages (from requests->keras-tuner) (3.3)\n",
      "Requirement already satisfied: charset-normalizer~=2.0.0 in /opt/conda/lib/python3.9/site-packages (from requests->keras-tuner) (2.0.12)\n",
      "Requirement already satisfied: certifi>=2017.4.17 in /opt/conda/lib/python3.9/site-packages (from requests->keras-tuner) (2022.5.18.1)\n",
      "Requirement already satisfied: urllib3<1.27,>=1.21.1 in /opt/conda/lib/python3.9/site-packages (from requests->keras-tuner) (1.26.9)\n",
      "Requirement already satisfied: protobuf>=3.6.0 in /opt/conda/lib/python3.9/site-packages (from tensorboard->keras-tuner) (3.20.1)\n",
      "Requirement already satisfied: tensorboard-plugin-wit>=1.6.0 in /opt/conda/lib/python3.9/site-packages (from tensorboard->keras-tuner) (1.8.1)\n",
      "Requirement already satisfied: google-auth-oauthlib<0.5,>=0.4.1 in /opt/conda/lib/python3.9/site-packages (from tensorboard->keras-tuner) (0.4.6)\n",
      "Requirement already satisfied: tensorboard-data-server<0.7.0,>=0.6.0 in /opt/conda/lib/python3.9/site-packages (from tensorboard->keras-tuner) (0.6.1)\n",
      "Requirement already satisfied: wheel>=0.26 in /opt/conda/lib/python3.9/site-packages (from tensorboard->keras-tuner) (0.37.1)\n",
      "Requirement already satisfied: werkzeug>=0.11.15 in /opt/conda/lib/python3.9/site-packages (from tensorboard->keras-tuner) (2.1.2)\n",
      "Requirement already satisfied: absl-py>=0.4 in /opt/conda/lib/python3.9/site-packages (from tensorboard->keras-tuner) (1.0.0)\n",
      "Requirement already satisfied: markdown>=2.6.8 in /opt/conda/lib/python3.9/site-packages (from tensorboard->keras-tuner) (3.3.7)\n",
      "Requirement already satisfied: grpcio>=1.24.3 in /opt/conda/lib/python3.9/site-packages (from tensorboard->keras-tuner) (1.46.1)\n",
      "Requirement already satisfied: google-auth<3,>=1.6.3 in /opt/conda/lib/python3.9/site-packages (from tensorboard->keras-tuner) (2.6.6)\n",
      "Requirement already satisfied: six in /opt/conda/lib/python3.9/site-packages (from absl-py>=0.4->tensorboard->keras-tuner) (1.16.0)\n",
      "Requirement already satisfied: pyasn1-modules>=0.2.1 in /opt/conda/lib/python3.9/site-packages (from google-auth<3,>=1.6.3->tensorboard->keras-tuner) (0.2.8)\n",
      "Requirement already satisfied: rsa<5,>=3.1.4 in /opt/conda/lib/python3.9/site-packages (from google-auth<3,>=1.6.3->tensorboard->keras-tuner) (4.8)\n",
      "Requirement already satisfied: cachetools<6.0,>=2.0.0 in /opt/conda/lib/python3.9/site-packages (from google-auth<3,>=1.6.3->tensorboard->keras-tuner) (5.1.0)\n",
      "Requirement already satisfied: requests-oauthlib>=0.7.0 in /opt/conda/lib/python3.9/site-packages (from google-auth-oauthlib<0.5,>=0.4.1->tensorboard->keras-tuner) (1.3.1)\n",
      "Requirement already satisfied: parso<0.9.0,>=0.8.0 in /opt/conda/lib/python3.9/site-packages (from jedi>=0.16->ipython->keras-tuner) (0.8.3)\n",
      "Requirement already satisfied: importlib-metadata>=4.4 in /opt/conda/lib/python3.9/site-packages (from markdown>=2.6.8->tensorboard->keras-tuner) (4.11.3)\n",
      "Requirement already satisfied: ptyprocess>=0.5 in /opt/conda/lib/python3.9/site-packages (from pexpect>4.3->ipython->keras-tuner) (0.7.0)\n",
      "Requirement already satisfied: wcwidth in /opt/conda/lib/python3.9/site-packages (from prompt-toolkit!=3.0.0,!=3.0.1,<3.1.0,>=2.0.0->ipython->keras-tuner) (0.2.5)\n",
      "Requirement already satisfied: executing in /opt/conda/lib/python3.9/site-packages (from stack-data->ipython->keras-tuner) (0.8.3)\n",
      "Requirement already satisfied: pure-eval in /opt/conda/lib/python3.9/site-packages (from stack-data->ipython->keras-tuner) (0.2.2)\n",
      "Requirement already satisfied: asttokens in /opt/conda/lib/python3.9/site-packages (from stack-data->ipython->keras-tuner) (2.0.5)\n",
      "Requirement already satisfied: zipp>=0.5 in /opt/conda/lib/python3.9/site-packages (from importlib-metadata>=4.4->markdown>=2.6.8->tensorboard->keras-tuner) (3.8.0)\n",
      "Requirement already satisfied: pyasn1<0.5.0,>=0.4.6 in /opt/conda/lib/python3.9/site-packages (from pyasn1-modules>=0.2.1->google-auth<3,>=1.6.3->tensorboard->keras-tuner) (0.4.8)\n",
      "Requirement already satisfied: oauthlib>=3.0.0 in /opt/conda/lib/python3.9/site-packages (from requests-oauthlib>=0.7.0->google-auth-oauthlib<0.5,>=0.4.1->tensorboard->keras-tuner) (3.2.0)\n",
      "Installing collected packages: kt-legacy, keras-tuner\n",
      "Successfully installed keras-tuner-1.1.2 kt-legacy-1.0.4\n"
     ]
    }
   ],
   "source": [
    "#Install required libraries\n",
    "!pip install keras==2.8\n",
    "!pip install h5py\n",
    "!pip install -U keras-tuner"
   ]
  },
  {
   "cell_type": "code",
   "execution_count": 2,
   "id": "a8b1314a-9c93-445d-8f4f-22d6740216fa",
   "metadata": {},
   "outputs": [],
   "source": [
    "#import for hdf5 table reading\n",
    "import h5py\n",
    "import numpy as np\n",
    "import pandas as pd\n",
    "import sklearn\n",
    "from keras_tuner.tuners import RandomSearch\n",
    "from keras_tuner.engine.hyperparameters import HyperParameters\n",
    "import os\n",
    "import time\n",
    "import math\n",
    "LOG_DIR = f\"{int(time.time())}\"\n",
    "\n",
    "os.environ['TF_CPP_MIN_LOG_LEVEL'] = '2'"
   ]
  },
  {
   "cell_type": "code",
   "execution_count": 3,
   "id": "aae316b3-cefc-4633-8ab4-29dfbacc2d39",
   "metadata": {},
   "outputs": [
    {
     "data": {
      "text/plain": [
       "'2.8.0'"
      ]
     },
     "execution_count": 3,
     "metadata": {},
     "output_type": "execute_result"
    }
   ],
   "source": [
    "#import tensorflow\n",
    "import tensorflow as tf\n",
    "tf.__version__"
   ]
  },
  {
   "cell_type": "code",
   "execution_count": 4,
   "id": "432e3da0-6d0e-42ac-9b54-f99330d5c717",
   "metadata": {},
   "outputs": [
    {
     "data": {
      "text/plain": [
       "'2.8.0'"
      ]
     },
     "execution_count": 4,
     "metadata": {},
     "output_type": "execute_result"
    }
   ],
   "source": [
    " #import keras and Sequential\n",
    "from tensorflow import keras \n",
    "from tensorflow.keras.layers import *\n",
    "from tensorflow.keras.models import Sequential, Model\n",
    "from tensorflow.keras.optimizers import Adam, RMSprop\n",
    "keras.__version__"
   ]
  },
  {
   "cell_type": "code",
   "execution_count": 5,
   "id": "48f9226b-66f6-4f52-87c6-89513c2e6e74",
   "metadata": {},
   "outputs": [],
   "source": [
    " #Next 3 cells of code populate the backgroundVar and higgsVar table with desired data for background pattern\n",
    "background = pd.HDFStore('background.hdf5', mode = 'r')\n",
    "higgs = pd.HDFStore('higgs.hdf5', mode = 'r')"
   ]
  },
  {
   "cell_type": "code",
   "execution_count": 6,
   "id": "44be6769-6e41-4196-b627-79c4d78dc71d",
   "metadata": {},
   "outputs": [],
   "source": [
    "#Notes, could not find mJ1 and there were double dRB1Ph listed in README\n",
    "backgroundVar = background['df'][['mJJ','cosThetaC','dRB1J1', 'cenPhJJ', 'pTJJ', 'pTBal', 'dEtaJJ', 'dRB1Ph', 'dPhiBBJJ', 'nJets', 'zep','etaJ5']]\n",
    "higgsVar = higgs['df'][['mJJ','cosThetaC','dRB1J1', 'cenPhJJ', 'pTJJ', 'pTBal', 'dEtaJJ', 'dRB1Ph', 'dPhiBBJJ', 'nJets', 'zep','etaJ5']]"
   ]
  },
  {
   "cell_type": "code",
   "execution_count": 7,
   "id": "129f6b49-c765-4fdf-8caa-408fe0e1e876",
   "metadata": {},
   "outputs": [],
   "source": [
    "backgroundVar['isBackground'] = 1\n",
    "higgsVar['isBackground'] = 0"
   ]
  },
  {
   "cell_type": "code",
   "execution_count": 8,
   "id": "a87e3aa9-5972-4fbb-b0c9-0a97bc47adfa",
   "metadata": {},
   "outputs": [],
   "source": [
    "backgroundValid, backgroundTrain = backgroundVar[:1000000], backgroundVar[1000000:] \n",
    "higgsValid, higgsTrain = higgsVar[:1000000], higgsVar[1000000:]\n",
    "backgroundTrain = backgroundTrain[:1000000]\n",
    "higgsTrain = higgsTrain[:1000000]\n"
   ]
  },
  {
   "cell_type": "code",
   "execution_count": 9,
   "id": "c4495480-61bf-4189-9ed8-6bc8092cd70f",
   "metadata": {},
   "outputs": [],
   "source": [
    " keras.backend.clear_session()\n",
    "np.random.seed(50)\n",
    "tf.random.set_seed(50)"
   ]
  },
  {
   "cell_type": "code",
   "execution_count": 10,
   "id": "546ba813-6449-428c-be98-d312afee6995",
   "metadata": {},
   "outputs": [],
   "source": [
    "train_labels = pd.concat([backgroundTrain['isBackground'],higgsTrain['isBackground']])\n",
    "valid_labels = pd.concat([backgroundValid['isBackground'],higgsValid['isBackground']])\n",
    "#train_labels"
   ]
  },
  {
   "cell_type": "code",
   "execution_count": 11,
   "id": "0f85dafb-e836-4a87-964b-01a1fcf3982b",
   "metadata": {},
   "outputs": [],
   "source": [
    "train_inputs = pd.concat([backgroundTrain[['mJJ','cosThetaC','dRB1J1', 'cenPhJJ', 'pTJJ', 'pTBal', 'dEtaJJ', 'dRB1Ph', 'dPhiBBJJ', 'nJets', 'zep','etaJ5']],higgsTrain[['mJJ','cosThetaC','dRB1J1', 'cenPhJJ', 'pTJJ', 'pTBal', 'dEtaJJ', 'dRB1Ph', 'dPhiBBJJ', 'nJets', 'zep','etaJ5']]])\n",
    "valid_inputs = pd.concat([backgroundValid[['mJJ','cosThetaC','dRB1J1', 'cenPhJJ', 'pTJJ', 'pTBal', 'dEtaJJ', 'dRB1Ph', 'dPhiBBJJ', 'nJets', 'zep','etaJ5']],higgsValid[['mJJ','cosThetaC','dRB1J1', 'cenPhJJ', 'pTJJ', 'pTBal', 'dEtaJJ', 'dRB1Ph', 'dPhiBBJJ', 'nJets', 'zep','etaJ5']]])\n",
    "train_inputs = train_inputs.reset_index(drop=True)\n",
    "valid_inputs = valid_inputs.reset_index(drop=True)\n",
    "# demonstrate data normalization with sklearn\n",
    "from sklearn.preprocessing import MinMaxScaler\n",
    "scaler = MinMaxScaler()\n",
    "# fit scaler on data\n",
    "scaler.fit(train_inputs)\n",
    "scaler.fit(valid_inputs)\n",
    "# apply transform\n",
    "train = scaler.transform(train_inputs)\n",
    "valid = scaler.transform(valid_inputs)"
   ]
  },
  {
   "cell_type": "code",
   "execution_count": 12,
   "id": "6bb432ff-1c0b-4366-945d-85876267d040",
   "metadata": {},
   "outputs": [],
   "source": [
    "train_labels = train_labels.reset_index(drop=True)\n",
    "valid_labels = valid_labels.reset_index(drop=True)\n",
    "initializer = tf.keras.initializers.RandomNormal(mean=0., stddev=1.)"
   ]
  },
  {
   "cell_type": "code",
   "execution_count": 16,
   "id": "769e7aae-7390-4cb0-a268-c18f4824a443",
   "metadata": {},
   "outputs": [],
   "source": [
    "def step_decay(epoch):\n",
    "   initial_lrate = 0.05\n",
    "   drop = 0.8\n",
    "   epochs_drop = 2.0\n",
    "   lrate = initial_lrate * math.pow(drop,  \n",
    "           math.floor((1+epoch)/epochs_drop))\n",
    "   return lrate\n",
    "lrate = tf.keras.callbacks.LearningRateScheduler(step_decay)\n",
    "class LearningRate(tf.keras.callbacks.Callback):\n",
    "  \n",
    "  def on_train_begin(self,logs={}):\n",
    "    self.lr_epoch=[]\n",
    "\n",
    "  def on_epoch_end(self, batch, logs={}):\n",
    "    self.lr_epoch.append(step_decay(len(self.lr_epoch)+1))\n",
    "\n",
    "lr_history=LearningRate()"
   ]
  },
  {
   "cell_type": "code",
   "execution_count": 18,
   "id": "6bb79687-4686-4458-a44d-90cf954f00f7",
   "metadata": {},
   "outputs": [
    {
     "name": "stdout",
     "output_type": "stream",
     "text": [
      "Epoch 1/10\n",
      "45374/45374 [==============================] - 720s 16ms/step - loss: 0.5404 - accuracy: 0.7390 - val_loss: 0.9571 - val_accuracy: 0.5000 - lr: 0.0500\n",
      "Epoch 2/10\n",
      "45374/45374 [==============================] - 670s 15ms/step - loss: 0.5381 - accuracy: 0.7399 - val_loss: 0.6031 - val_accuracy: 0.6760 - lr: 0.0400\n",
      "Epoch 3/10\n",
      "45374/45374 [==============================] - 688s 15ms/step - loss: 0.5372 - accuracy: 0.7408 - val_loss: 0.6076 - val_accuracy: 0.6744 - lr: 0.0400\n",
      "Epoch 4/10\n",
      "45374/45374 [==============================] - 698s 15ms/step - loss: 0.5381 - accuracy: 0.7401 - val_loss: 0.8663 - val_accuracy: 0.5000 - lr: 0.0320\n",
      "Epoch 5/10\n",
      "45374/45374 [==============================] - 700s 15ms/step - loss: 0.5360 - accuracy: 0.7414 - val_loss: 0.6217 - val_accuracy: 0.6708 - lr: 0.0320\n",
      "Epoch 6/10\n",
      "45374/45374 [==============================] - 704s 16ms/step - loss: 0.5346 - accuracy: 0.7421 - val_loss: 0.7932 - val_accuracy: 0.5715 - lr: 0.0256\n",
      "Epoch 7/10\n",
      "45374/45374 [==============================] - 706s 16ms/step - loss: 0.5345 - accuracy: 0.7423 - val_loss: 0.7256 - val_accuracy: 0.5610 - lr: 0.0256\n",
      "Epoch 8/10\n",
      "45374/45374 [==============================] - 718s 16ms/step - loss: 0.5339 - accuracy: 0.7428 - val_loss: 0.6568 - val_accuracy: 0.6322 - lr: 0.0205\n",
      "Epoch 9/10\n",
      "45374/45374 [==============================] - 722s 16ms/step - loss: 0.5335 - accuracy: 0.7432 - val_loss: 0.6299 - val_accuracy: 0.6555 - lr: 0.0205\n",
      "Epoch 10/10\n",
      "45374/45374 [==============================] - 709s 16ms/step - loss: 0.5331 - accuracy: 0.7431 - val_loss: 0.6958 - val_accuracy: 0.5991 - lr: 0.0164\n",
      "62500/62500 [==============================] - 197s 3ms/step - loss: 0.6958 - accuracy: 0.5991\n"
     ]
    }
   ],
   "source": [
    "model = keras.models.Sequential([(Dense(12,activation = 'relu', kernel_initializer=initializer)),\n",
    "                                 tf.keras.layers.BatchNormalization(),\n",
    "                                 (Dense(9,activation = 'relu', kernel_initializer=initializer)),\n",
    "                                 tf.keras.layers.BatchNormalization(),\n",
    "                                 (Dense(6, activation='sigmoid', kernel_initializer=initializer)),\n",
    "                                 tf.keras.layers.BatchNormalization(),\n",
    "                                 (Dense(3, activation='relu', kernel_initializer=initializer)),\n",
    "                                 tf.keras.layers.BatchNormalization(),\n",
    "                                 (Dense(1, activation='sigmoid', kernel_initializer=initializer, name = \"predictions\"))\n",
    "                                ])\n",
    "\n",
    "model.compile(optimizer=keras.optimizers.Nadam(), loss='binary_crossentropy', metrics=['accuracy'])\n",
    "\n",
    "history=model.fit(train, train_labels, epochs=10, callbacks=[lr_history,lrate], validation_data=(valid, valid_labels),shuffle=True, verbose=1)\n",
    "accuracy = model.evaluate(valid, valid_labels)"
   ]
  },
  {
   "cell_type": "code",
   "execution_count": null,
   "id": "cd30787d-ac51-4048-b12c-4bce3c3c7fe5",
   "metadata": {},
   "outputs": [],
   "source": [
    "#tuner searches for the best version of the model\n",
    "#def build_model(hp):\n",
    "#    model1 = keras.models.Sequential()\n",
    "    \n",
    "#    model1.add(Dense(12,activation = \"tanh\"))\n",
    "#    model1.add(Dropout(0.05))\n",
    "    \n",
    "    #layers\n",
    "#    for i in range(hp.Int('n_layers', 1, 6)):\n",
    "#        model1.add(Dense(hp.Int(f'conv_{i}_units', min_value = 1, max_value = 50, step = 1)))\n",
    "#        model1.add(Activation('tanh'))\n",
    "#        model1.add(Dropout(0.05))\n",
    "    \n",
    "    #final layer\n",
    "#    model1.add(Dense(1, activation=\"sigmoid\", name = \"predictions\"))\n",
    "    \n",
    "    #compile\n",
    "#    model1.compile(optimizer=keras.optimizers.Adam(learning_rate=0.001), loss='binary_crossentropy', metrics=[\"accuracy\"])\n",
    "#    return model1\n",
    "\n",
    "#tuner = RandomSearch(\n",
    "#    build_model,\n",
    "#    objective = \"accuracy\",\n",
    "#    max_trials = 100,\n",
    "#    executions_per_trial = 1,\n",
    "#    directory = LOG_DIR)\n",
    "\n",
    "#tuner.search(x=train,\n",
    "#             y=train_labels,\n",
    "#             verbose=2, # just slapping this here bc jupyter notebook. The console out was getting messy.\n",
    "#             epochs=10,\n",
    "#             batch_size=50,\n",
    "             #callbacks=[tensorboard],  # if you have callbacks like tensorboard, they go here.\n",
    "#            )"
   ]
  },
  {
   "cell_type": "code",
   "execution_count": null,
   "id": "3ad03694-175e-4f0f-8d3b-c351135427d1",
   "metadata": {},
   "outputs": [],
   "source": []
  },
  {
   "cell_type": "code",
   "execution_count": null,
   "id": "880fe980-12fb-410b-8e56-f2d09ae05699",
   "metadata": {},
   "outputs": [],
   "source": []
  }
 ],
 "metadata": {
  "kernelspec": {
   "display_name": "Python 3 (ipykernel)",
   "language": "python",
   "name": "python3"
  },
  "language_info": {
   "codemirror_mode": {
    "name": "ipython",
    "version": 3
   },
   "file_extension": ".py",
   "mimetype": "text/x-python",
   "name": "python",
   "nbconvert_exporter": "python",
   "pygments_lexer": "ipython3",
   "version": "3.9.10"
  }
 },
 "nbformat": 4,
 "nbformat_minor": 5
}
