{
 "cells": [
  {
   "cell_type": "code",
   "execution_count": 1,
   "id": "e11b2f4e-a71c-4e81-b330-dd783c7d6b25",
   "metadata": {},
   "outputs": [
    {
     "name": "stdout",
     "output_type": "stream",
     "text": [
      "Requirement already satisfied: keras==2.8 in /opt/conda/lib/python3.9/site-packages (2.8.0)\n",
      "Requirement already satisfied: h5py in /opt/conda/lib/python3.9/site-packages (3.6.0)\n",
      "Requirement already satisfied: numpy>=1.14.5 in /opt/conda/lib/python3.9/site-packages (from h5py) (1.21.6)\n",
      "Requirement already satisfied: keras-tuner in /opt/conda/lib/python3.9/site-packages (1.1.2)\n",
      "Requirement already satisfied: requests in /opt/conda/lib/python3.9/site-packages (from keras-tuner) (2.27.1)\n",
      "Requirement already satisfied: ipython in /opt/conda/lib/python3.9/site-packages (from keras-tuner) (8.3.0)\n",
      "Requirement already satisfied: numpy in /opt/conda/lib/python3.9/site-packages (from keras-tuner) (1.21.6)\n",
      "Requirement already satisfied: tensorboard in /opt/conda/lib/python3.9/site-packages (from keras-tuner) (2.8.0)\n",
      "Requirement already satisfied: packaging in /opt/conda/lib/python3.9/site-packages (from keras-tuner) (21.3)\n",
      "Requirement already satisfied: kt-legacy in /opt/conda/lib/python3.9/site-packages (from keras-tuner) (1.0.4)\n",
      "Requirement already satisfied: backcall in /opt/conda/lib/python3.9/site-packages (from ipython->keras-tuner) (0.2.0)\n",
      "Requirement already satisfied: prompt-toolkit!=3.0.0,!=3.0.1,<3.1.0,>=2.0.0 in /opt/conda/lib/python3.9/site-packages (from ipython->keras-tuner) (3.0.29)\n",
      "Requirement already satisfied: setuptools>=18.5 in /opt/conda/lib/python3.9/site-packages (from ipython->keras-tuner) (59.8.0)\n",
      "Requirement already satisfied: decorator in /opt/conda/lib/python3.9/site-packages (from ipython->keras-tuner) (5.1.1)\n",
      "Requirement already satisfied: jedi>=0.16 in /opt/conda/lib/python3.9/site-packages (from ipython->keras-tuner) (0.18.1)\n",
      "Requirement already satisfied: traitlets>=5 in /opt/conda/lib/python3.9/site-packages (from ipython->keras-tuner) (5.2.1.post0)\n",
      "Requirement already satisfied: pygments>=2.4.0 in /opt/conda/lib/python3.9/site-packages (from ipython->keras-tuner) (2.12.0)\n",
      "Requirement already satisfied: pickleshare in /opt/conda/lib/python3.9/site-packages (from ipython->keras-tuner) (0.7.5)\n",
      "Requirement already satisfied: matplotlib-inline in /opt/conda/lib/python3.9/site-packages (from ipython->keras-tuner) (0.1.3)\n",
      "Requirement already satisfied: stack-data in /opt/conda/lib/python3.9/site-packages (from ipython->keras-tuner) (0.2.0)\n",
      "Requirement already satisfied: pexpect>4.3 in /opt/conda/lib/python3.9/site-packages (from ipython->keras-tuner) (4.8.0)\n",
      "Requirement already satisfied: pyparsing!=3.0.5,>=2.0.2 in /opt/conda/lib/python3.9/site-packages (from packaging->keras-tuner) (3.0.9)\n",
      "Requirement already satisfied: urllib3<1.27,>=1.21.1 in /opt/conda/lib/python3.9/site-packages (from requests->keras-tuner) (1.26.9)\n",
      "Requirement already satisfied: certifi>=2017.4.17 in /opt/conda/lib/python3.9/site-packages (from requests->keras-tuner) (2022.5.18.1)\n",
      "Requirement already satisfied: charset-normalizer~=2.0.0 in /opt/conda/lib/python3.9/site-packages (from requests->keras-tuner) (2.0.12)\n",
      "Requirement already satisfied: idna<4,>=2.5 in /opt/conda/lib/python3.9/site-packages (from requests->keras-tuner) (3.3)\n",
      "Requirement already satisfied: protobuf>=3.6.0 in /opt/conda/lib/python3.9/site-packages (from tensorboard->keras-tuner) (3.20.1)\n",
      "Requirement already satisfied: tensorboard-data-server<0.7.0,>=0.6.0 in /opt/conda/lib/python3.9/site-packages (from tensorboard->keras-tuner) (0.6.1)\n",
      "Requirement already satisfied: absl-py>=0.4 in /opt/conda/lib/python3.9/site-packages (from tensorboard->keras-tuner) (1.0.0)\n",
      "Requirement already satisfied: google-auth-oauthlib<0.5,>=0.4.1 in /opt/conda/lib/python3.9/site-packages (from tensorboard->keras-tuner) (0.4.6)\n",
      "Requirement already satisfied: markdown>=2.6.8 in /opt/conda/lib/python3.9/site-packages (from tensorboard->keras-tuner) (3.3.7)\n",
      "Requirement already satisfied: google-auth<3,>=1.6.3 in /opt/conda/lib/python3.9/site-packages (from tensorboard->keras-tuner) (2.6.6)\n",
      "Requirement already satisfied: grpcio>=1.24.3 in /opt/conda/lib/python3.9/site-packages (from tensorboard->keras-tuner) (1.46.1)\n",
      "Requirement already satisfied: tensorboard-plugin-wit>=1.6.0 in /opt/conda/lib/python3.9/site-packages (from tensorboard->keras-tuner) (1.8.1)\n",
      "Requirement already satisfied: wheel>=0.26 in /opt/conda/lib/python3.9/site-packages (from tensorboard->keras-tuner) (0.37.1)\n",
      "Requirement already satisfied: werkzeug>=0.11.15 in /opt/conda/lib/python3.9/site-packages (from tensorboard->keras-tuner) (2.1.2)\n",
      "Requirement already satisfied: six in /opt/conda/lib/python3.9/site-packages (from absl-py>=0.4->tensorboard->keras-tuner) (1.16.0)\n",
      "Requirement already satisfied: cachetools<6.0,>=2.0.0 in /opt/conda/lib/python3.9/site-packages (from google-auth<3,>=1.6.3->tensorboard->keras-tuner) (5.1.0)\n",
      "Requirement already satisfied: pyasn1-modules>=0.2.1 in /opt/conda/lib/python3.9/site-packages (from google-auth<3,>=1.6.3->tensorboard->keras-tuner) (0.2.8)\n",
      "Requirement already satisfied: rsa<5,>=3.1.4 in /opt/conda/lib/python3.9/site-packages (from google-auth<3,>=1.6.3->tensorboard->keras-tuner) (4.8)\n",
      "Requirement already satisfied: requests-oauthlib>=0.7.0 in /opt/conda/lib/python3.9/site-packages (from google-auth-oauthlib<0.5,>=0.4.1->tensorboard->keras-tuner) (1.3.1)\n",
      "Requirement already satisfied: parso<0.9.0,>=0.8.0 in /opt/conda/lib/python3.9/site-packages (from jedi>=0.16->ipython->keras-tuner) (0.8.3)\n",
      "Requirement already satisfied: importlib-metadata>=4.4 in /opt/conda/lib/python3.9/site-packages (from markdown>=2.6.8->tensorboard->keras-tuner) (4.11.3)\n",
      "Requirement already satisfied: ptyprocess>=0.5 in /opt/conda/lib/python3.9/site-packages (from pexpect>4.3->ipython->keras-tuner) (0.7.0)\n",
      "Requirement already satisfied: wcwidth in /opt/conda/lib/python3.9/site-packages (from prompt-toolkit!=3.0.0,!=3.0.1,<3.1.0,>=2.0.0->ipython->keras-tuner) (0.2.5)\n",
      "Requirement already satisfied: asttokens in /opt/conda/lib/python3.9/site-packages (from stack-data->ipython->keras-tuner) (2.0.5)\n",
      "Requirement already satisfied: executing in /opt/conda/lib/python3.9/site-packages (from stack-data->ipython->keras-tuner) (0.8.3)\n",
      "Requirement already satisfied: pure-eval in /opt/conda/lib/python3.9/site-packages (from stack-data->ipython->keras-tuner) (0.2.2)\n",
      "Requirement already satisfied: zipp>=0.5 in /opt/conda/lib/python3.9/site-packages (from importlib-metadata>=4.4->markdown>=2.6.8->tensorboard->keras-tuner) (3.8.0)\n",
      "Requirement already satisfied: pyasn1<0.5.0,>=0.4.6 in /opt/conda/lib/python3.9/site-packages (from pyasn1-modules>=0.2.1->google-auth<3,>=1.6.3->tensorboard->keras-tuner) (0.4.8)\n",
      "Requirement already satisfied: oauthlib>=3.0.0 in /opt/conda/lib/python3.9/site-packages (from requests-oauthlib>=0.7.0->google-auth-oauthlib<0.5,>=0.4.1->tensorboard->keras-tuner) (3.2.0)\n"
     ]
    }
   ],
   "source": [
    "#Install required libraries\n",
    "!pip install keras==2.8\n",
    "!pip install h5py\n",
    "!pip install -U keras-tuner"
   ]
  },
  {
   "cell_type": "code",
   "execution_count": 2,
   "id": "50b42eed-3631-452a-a34d-3c10c6d9ccd5",
   "metadata": {},
   "outputs": [],
   "source": [
    "#import for hdf5 table reading\n",
    "import h5py\n",
    "import numpy as np\n",
    "import pandas as pd\n",
    "from keras_tuner.tuners import RandomSearch\n",
    "from keras_tuner.engine.hyperparameters import HyperParameters\n",
    "import os\n",
    "import time\n",
    "LOG_DIR = f\"{int(time.time())}\"\n",
    "\n",
    "os.environ['TF_CPP_MIN_LOG_LEVEL'] = '2'"
   ]
  },
  {
   "cell_type": "code",
   "execution_count": 3,
   "id": "51e8cc23-f35a-45e3-8de1-94243992665d",
   "metadata": {},
   "outputs": [
    {
     "data": {
      "text/plain": [
       "'2.8.0'"
      ]
     },
     "execution_count": 3,
     "metadata": {},
     "output_type": "execute_result"
    }
   ],
   "source": [
    "#import tensorflow\n",
    "import tensorflow as tf\n",
    "tf.__version__"
   ]
  },
  {
   "cell_type": "code",
   "execution_count": 4,
   "id": "a7c56add-72ec-4758-b98c-84c56ee6f711",
   "metadata": {},
   "outputs": [
    {
     "data": {
      "text/plain": [
       "'2.8.0'"
      ]
     },
     "execution_count": 4,
     "metadata": {},
     "output_type": "execute_result"
    }
   ],
   "source": [
    "#import keras and Sequential\n",
    "from tensorflow import keras \n",
    "from tensorflow.keras.layers import *\n",
    "from tensorflow.keras.models import Sequential, Model\n",
    "from tensorflow.keras.optimizers import Adam, RMSprop\n",
    "keras.__version__"
   ]
  },
  {
   "cell_type": "code",
   "execution_count": 5,
   "id": "a3af9efc-97d3-4f6e-a052-a92c335e56fa",
   "metadata": {},
   "outputs": [],
   "source": [
    "#Next 3 cells of code populate the backgroundVar and higgsVar table with desired data for background pattern\n",
    "background = pd.HDFStore('background.hdf5', mode = 'r')\n",
    "higgs = pd.HDFStore('higgs.hdf5', mode = 'r')"
   ]
  },
  {
   "cell_type": "code",
   "execution_count": 6,
   "id": "d2794d14-4343-46af-9c66-5ef13c3fddd1",
   "metadata": {},
   "outputs": [],
   "source": [
    "#background.keys()"
   ]
  },
  {
   "cell_type": "code",
   "execution_count": 7,
   "id": "1281b709-c71b-4894-a6e0-515f8b515494",
   "metadata": {},
   "outputs": [],
   "source": [
    "#background['df'].keys()"
   ]
  },
  {
   "cell_type": "code",
   "execution_count": 8,
   "id": "8c20dec0-1b92-4453-9fa9-3c568965604c",
   "metadata": {},
   "outputs": [],
   "source": [
    "#Within the key df there are many different keys, only actually prints higgs['df'].keys() with this arrangement\n",
    "#background.keys()\n",
    "#background['df'].keys()\n",
    "#higgs.keys()\n",
    "#higgs['df'].keys()"
   ]
  },
  {
   "cell_type": "code",
   "execution_count": 9,
   "id": "4267bcff-271a-47fe-8699-cf31283799d5",
   "metadata": {},
   "outputs": [],
   "source": [
    "#Notes, could not find mJ1 and there were double dRB1Ph listed in README\n",
    "backgroundVar = background['df'][['mJJ','cosThetaC','dRB1J1', 'cenPhJJ', 'pTJJ', 'pTBal', 'dEtaJJ', 'dRB1Ph', 'dPhiBBJJ', 'nJets', 'zep','etaJ5']]\n",
    "higgsVar = higgs['df'][['mJJ','cosThetaC','dRB1J1', 'cenPhJJ', 'pTJJ', 'pTBal', 'dEtaJJ', 'dRB1Ph', 'dPhiBBJJ', 'nJets', 'zep','etaJ5']]"
   ]
  },
  {
   "cell_type": "code",
   "execution_count": 10,
   "id": "dcde66e2-c7ae-4e96-96a3-d1d24a22623c",
   "metadata": {},
   "outputs": [],
   "source": [
    "backgroundVar['isBackground'] = 1\n",
    "higgsVar['isBackground'] = 0"
   ]
  },
  {
   "cell_type": "code",
   "execution_count": 11,
   "id": "c582e76c-4092-4fac-9501-21e4a178e4c6",
   "metadata": {},
   "outputs": [],
   "source": [
    "#Table containing backgroundVariables\n",
    "#backgroundVar"
   ]
  },
  {
   "cell_type": "code",
   "execution_count": 12,
   "id": "6a3481ce-45e6-4ca5-a04b-1fa5134f39bf",
   "metadata": {},
   "outputs": [],
   "source": [
    "#Table containing higgsVariables\n",
    "#higgsVar"
   ]
  },
  {
   "cell_type": "code",
   "execution_count": 13,
   "id": "3919f3a5-fb8d-4193-9ae9-c9cd7dae0982",
   "metadata": {},
   "outputs": [],
   "source": [
    "#higgsVar.shape"
   ]
  },
  {
   "cell_type": "code",
   "execution_count": 14,
   "id": "522079f9-671d-4236-88a3-f04340f18d9a",
   "metadata": {},
   "outputs": [],
   "source": [
    "backgroundValid, backgroundTrain = backgroundVar[:10000], backgroundVar[10000:] \n",
    "higgsValid, higgsTrain = higgsVar[:10000], higgsVar[10000:]\n",
    "backgroundTrain = backgroundTrain[:10000]\n",
    "higgsTrain = higgsTrain[:10000]"
   ]
  },
  {
   "cell_type": "code",
   "execution_count": 15,
   "id": "99b06184-b310-493d-982e-1348d522ee77",
   "metadata": {},
   "outputs": [],
   "source": [
    "#Shape of all variables grabbed above\n",
    "#backgroundValid.shape"
   ]
  },
  {
   "cell_type": "code",
   "execution_count": 16,
   "id": "d27d08ff-b513-4ab8-a54b-61e2e6e1804f",
   "metadata": {},
   "outputs": [],
   "source": [
    "keras.backend.clear_session()\n",
    "np.random.seed(42)\n",
    "tf.random.set_seed(42)"
   ]
  },
  {
   "cell_type": "code",
   "execution_count": 17,
   "id": "47403326-0ba2-48ea-8eb1-8a63e3a0a73d",
   "metadata": {},
   "outputs": [],
   "source": [
    "train_labels = pd.concat([backgroundTrain['isBackground'],higgsTrain['isBackground']])\n",
    "valid_labels = pd.concat([backgroundValid['isBackground'],higgsValid['isBackground']])\n",
    "#train_labels"
   ]
  },
  {
   "cell_type": "code",
   "execution_count": 18,
   "id": "e9f3a82f-599c-4feb-89c5-b556c460e70f",
   "metadata": {},
   "outputs": [],
   "source": [
    "train_inputs = pd.concat([backgroundTrain[['mJJ','cosThetaC','dRB1J1', 'cenPhJJ', 'pTJJ', 'pTBal', 'dEtaJJ', 'dRB1Ph', 'dPhiBBJJ', 'nJets', 'zep','etaJ5']],higgsTrain[['mJJ','cosThetaC','dRB1J1', 'cenPhJJ', 'pTJJ', 'pTBal', 'dEtaJJ', 'dRB1Ph', 'dPhiBBJJ', 'nJets', 'zep','etaJ5']]])\n",
    "valid_inputs = pd.concat([backgroundValid[['mJJ','cosThetaC','dRB1J1', 'cenPhJJ', 'pTJJ', 'pTBal', 'dEtaJJ', 'dRB1Ph', 'dPhiBBJJ', 'nJets', 'zep','etaJ5']],higgsValid[['mJJ','cosThetaC','dRB1J1', 'cenPhJJ', 'pTJJ', 'pTBal', 'dEtaJJ', 'dRB1Ph', 'dPhiBBJJ', 'nJets', 'zep','etaJ5']]])\n",
    "#train_inputs"
   ]
  },
  {
   "cell_type": "code",
   "execution_count": null,
   "id": "38609d18-e0d6-44c0-9bde-3870d09fdc0e",
   "metadata": {},
   "outputs": [
    {
     "name": "stdout",
     "output_type": "stream",
     "text": [
      "Trial 5 Complete [00h 00m 14s]\n",
      "accuracy: 0.4448888897895813\n",
      "\n",
      "Best accuracy So Far: 0.44591666758060455\n",
      "Total elapsed time: 00h 01m 15s\n",
      "\n",
      "Search: Running Trial #6\n",
      "\n",
      "Value             |Best Value So Far |Hyperparameter\n",
      "5                 |5                 |n_layers\n",
      "168               |96                |conv_0_units\n",
      "216               |12                |conv_1_units\n",
      "36                |12                |conv_2_units\n",
      "288               |12                |conv_3_units\n",
      "276               |12                |conv_4_units\n",
      "\n"
     ]
    }
   ],
   "source": [
    "def build_model(hp):\n",
    "    model = keras.models.Sequential()\n",
    "    \n",
    "    model.add(Dense(12,activation = \"relu\", input_shape = (12,)))\n",
    "    model.add(BatchNormalization())\n",
    "    \n",
    "    #layers\n",
    "    for i in range(hp.Int('n_layers', 1, 6)):\n",
    "        model.add(Dense(hp.Int(f'conv_{i}_units', min_value = 12, max_value = 288, step = 12)))\n",
    "        model.add(Activation('relu'))\n",
    "        model.add(Dropout(0.2))\n",
    "    \n",
    "    #final layer\n",
    "    model.add(Dense(1, activation=\"sigmoid\", name = \"predictions\"))\n",
    "    \n",
    "    #compile\n",
    "    model.compile(optimizer=keras.optimizers.Adam(learning_rate=0.001), loss='categorical_crossentropy', metrics=[\"accuracy\"])\n",
    "    return model\n",
    "\n",
    "tuner = RandomSearch(\n",
    "    build_model,\n",
    "    objective = \"accuracy\",\n",
    "    max_trials = 100,\n",
    "    executions_per_trial = 2,\n",
    "    directory = LOG_DIR)\n",
    "\n",
    "tuner.search(x=train_inputs,\n",
    "             y=train_labels,\n",
    "             verbose=2, # just slapping this here bc jupyter notebook. The console out was getting messy.\n",
    "             epochs=1,\n",
    "             batch_size=32,\n",
    "             #callbacks=[tensorboard],  # if you have callbacks like tensorboard, they go here.\n",
    "             validation_split=0.1\n",
    "            )"
   ]
  },
  {
   "cell_type": "code",
   "execution_count": null,
   "id": "f8ea440b-984c-4cf7-af90-64199b363484",
   "metadata": {},
   "outputs": [],
   "source": [
    "tuner.results_summary()"
   ]
  },
  {
   "cell_type": "code",
   "execution_count": null,
   "id": "c630eee5-8c43-4c91-bede-225b8c95ab7c",
   "metadata": {},
   "outputs": [],
   "source": [
    "model.layers\n",
    "model.summary()"
   ]
  },
  {
   "cell_type": "code",
   "execution_count": null,
   "id": "ac00bc45-c37b-4c1e-bcbc-a6943c22d006",
   "metadata": {},
   "outputs": [],
   "source": [
    "from matplotlib import pyplot as plt\n",
    "pd.DataFrame(history.history).plot(figsize=(8, 5))\n",
    "plt.grid(True)\n",
    "plt.gca().set_ylim(0, 1)\n",
    "plt.show()"
   ]
  },
  {
   "cell_type": "code",
   "execution_count": null,
   "id": "8871f1fb-1468-48f0-91c1-ad62dcdfc8a7",
   "metadata": {},
   "outputs": [],
   "source": [
    "#Functional Model example\n",
    "#inp1 = Input((13, ))\n",
    "#inp2 = Input((13, ))\n",
    "#x1 = Flatten()(inp1)\n",
    "#x2 = Flatten()(inp2)\n",
    "#x = keras.layers.concatenate([x1, x2])\n",
    "#x = keras.layers.Dense(32)(x)\n",
    "#out = keras.layers.Dense(1, activation='sigmoid')(x)\n",
    "#func = Model([inp1, inp2], out)\n",
    "#func.compile(loss=\"binary_crossentropy\",\n",
    "#              optimizer=\"sgd\",\n",
    "#              metrics=[\"accuracy\"])"
   ]
  },
  {
   "cell_type": "code",
   "execution_count": null,
   "id": "0ece134c-81e1-4470-b1ce-8261057e9cd6",
   "metadata": {},
   "outputs": [],
   "source": [
    "#Links\n",
    "\n",
    "#some solutions to no loss decrease\n",
    "#https://stackoverflow.com/questions/51113328/keras-high-loss-not-decreasing-with-each-epoch\n",
    "\n",
    "#Tutorial on building networks\n",
    "#https://www.youtube.com/watch?v=qFJeN9V1ZsI&ab_channel=freeCodeCamp.org\n",
    "\n",
    "#Book on deep learning\n",
    "#https://www.deeplearningbook.org/"
   ]
  },
  {
   "cell_type": "code",
   "execution_count": null,
   "id": "ac733fad-140d-4e82-b8d9-008343582aa8",
   "metadata": {},
   "outputs": [],
   "source": [
    "#([\n",
    "#keras.layers.Flatten(input_shape=(12,)),\n",
    "#keras.layers.Dense(12, activation=\"relu\", input_shape=(12,)),\n",
    "#keras.layers.Dense(30, activation=\"relu\"),\n",
    "#keras.layers.Dense(10, activation=\"relu\"),\n",
    "#keras.layers.Dense(1, activation=\"sigmoid\", name=\"predictions\")\n",
    "#])"
   ]
  }
 ],
 "metadata": {
  "kernelspec": {
   "display_name": "Python 3 (ipykernel)",
   "language": "python",
   "name": "python3"
  },
  "language_info": {
   "codemirror_mode": {
    "name": "ipython",
    "version": 3
   },
   "file_extension": ".py",
   "mimetype": "text/x-python",
   "name": "python",
   "nbconvert_exporter": "python",
   "pygments_lexer": "ipython3",
   "version": "3.9.10"
  }
 },
 "nbformat": 4,
 "nbformat_minor": 5
}
