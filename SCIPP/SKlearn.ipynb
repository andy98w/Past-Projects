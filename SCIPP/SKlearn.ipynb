{
 "cells": [
  {
   "cell_type": "code",
   "execution_count": 1,
   "id": "2e62f217-c7e5-4411-af29-801cd5acec1b",
   "metadata": {},
   "outputs": [
    {
     "name": "stdout",
     "output_type": "stream",
     "text": [
      "Collecting keras==2.8\n",
      "  Using cached keras-2.8.0-py2.py3-none-any.whl (1.4 MB)\n",
      "Installing collected packages: keras\n",
      "  Attempting uninstall: keras\n",
      "    Found existing installation: Keras 2.3.1\n",
      "    Uninstalling Keras-2.3.1:\n",
      "      Successfully uninstalled Keras-2.3.1\n",
      "Successfully installed keras-2.8.0\n"
     ]
    }
   ],
   "source": [
    "!pip install keras==2.8"
   ]
  },
  {
   "cell_type": "code",
   "execution_count": 2,
   "id": "e058c94a-f8fa-4811-9ea2-fbb11d3cd0bf",
   "metadata": {},
   "outputs": [
    {
     "data": {
      "text/plain": [
       "'2.8.0'"
      ]
     },
     "execution_count": 2,
     "metadata": {},
     "output_type": "execute_result"
    }
   ],
   "source": [
    "import tensorflow as tf\n",
    "tf.__version__"
   ]
  },
  {
   "cell_type": "code",
   "execution_count": 3,
   "id": "98c44fc0-8387-45c3-981a-f074cfdb49ff",
   "metadata": {},
   "outputs": [],
   "source": [
    "from tensorflow import keras \n",
    "keras.__version__\n",
    "import sklearn"
   ]
  },
  {
   "cell_type": "code",
   "execution_count": 4,
   "id": "ff9b2e87-0942-411f-ab6a-43fcda14dbf7",
   "metadata": {},
   "outputs": [],
   "source": [
    "import h5py\n",
    "import numpy as np\n",
    "import pandas as pd\n",
    "import os\n",
    "os.environ['TF_CPP_MIN_LOG_LEVEL'] = '2'\n",
    "background = pd.HDFStore('background.hdf5', mode = 'r')\n",
    "signal = pd.HDFStore('higgs.hdf5', mode = 'r')"
   ]
  },
  {
   "cell_type": "code",
   "execution_count": 5,
   "id": "d6671982-b1b4-4164-85a5-1ef32bee2c8a",
   "metadata": {},
   "outputs": [],
   "source": [
    "backgroundVar = background['df'][['mJJ','cosThetaC','dRB1J1', 'cenPhJJ', 'pTJJ', 'pTBal', 'dEtaJJ', 'dRB1Ph', 'dPhiBBJJ', 'nJets', 'zep','etaJ5']]\n",
    "higgsVar = signal['df'][['mJJ','cosThetaC','dRB1J1', 'cenPhJJ', 'pTJJ', 'pTBal', 'dEtaJJ', 'dRB1Ph', 'dPhiBBJJ', 'nJets', 'zep','etaJ5']]"
   ]
  },
  {
   "cell_type": "code",
   "execution_count": 6,
   "id": "ea9c3f4e-b0a8-42be-b451-df4e74c10c23",
   "metadata": {},
   "outputs": [],
   "source": [
    "backgroundVar['isBackground'] = 1\n",
    "higgsVar['isBackground'] = 0"
   ]
  },
  {
   "cell_type": "code",
   "execution_count": 7,
   "id": "65be4c95-e040-4a3f-bb4c-994b68e53240",
   "metadata": {},
   "outputs": [],
   "source": [
    "backgroundValid, backgroundTrain = backgroundVar[:500000], backgroundVar[500000:] \n",
    "higgsValid, higgsTrain = higgsVar[:500000], higgsVar[500000:]\n",
    "backgroundTrain = backgroundTrain[:500000]\n",
    "higgsTrain = higgsTrain[:500000]"
   ]
  },
  {
   "cell_type": "code",
   "execution_count": 8,
   "id": "8c587301-6237-4536-8e9c-101a79dbcad1",
   "metadata": {},
   "outputs": [
    {
     "name": "stdout",
     "output_type": "stream",
     "text": [
      "(1000000,)\n",
      "(1000000, 12)\n"
     ]
    }
   ],
   "source": [
    "targetbackground = backgroundTrain['isBackground']\n",
    "targetHiggs = higgsTrain['isBackground']\n",
    "target = pd.concat([targetHiggs,targetbackground])\n",
    "training = pd.concat([higgsTrain,backgroundTrain])\n",
    "del training['isBackground'];\n",
    "print(target.shape)\n",
    "print(training.shape)\n",
    "from sklearn.model_selection import train_test_split\n",
    "X_train, X_test, y_train, y_test = train_test_split(training, target, test_size=0.3) # 70% training and 30% test"
   ]
  },
  {
   "cell_type": "code",
   "execution_count": 9,
   "id": "ba6a5fe2-fb57-451b-9b39-7c43a6a7f07a",
   "metadata": {},
   "outputs": [
    {
     "name": "stdout",
     "output_type": "stream",
     "text": [
      "Pipeline(steps=[('standardscaler', StandardScaler()),\n",
      "                ('kneighborsclassifier', KNeighborsClassifier(n_neighbors=7))])\n"
     ]
    }
   ],
   "source": [
    "from sklearn import neighbors, datasets\n",
    "from sklearn.linear_model import SGDClassifier\n",
    "from sklearn.preprocessing import StandardScaler\n",
    "from sklearn.pipeline import make_pipeline\n",
    "from sklearn.svm import SVC\n",
    "model = make_pipeline(StandardScaler(),neighbors.KNeighborsClassifier(n_neighbors=7))\n",
    "##model = make_pipeline(StandardScaler(),SVC(gamma='auto'))\n",
    "print(model)\n",
    "np.random.seed(42)\n",
    "tf.random.set_seed(42)"
   ]
  },
  {
   "cell_type": "code",
   "execution_count": 10,
   "id": "a23e770f-d60a-48b6-8f32-a5f57b03233e",
   "metadata": {},
   "outputs": [
    {
     "data": {
      "text/plain": [
       "Pipeline(steps=[('standardscaler', StandardScaler()),\n",
       "                ('kneighborsclassifier', KNeighborsClassifier(n_neighbors=7))])"
      ]
     },
     "execution_count": 10,
     "metadata": {},
     "output_type": "execute_result"
    }
   ],
   "source": [
    "model.fit(X_train,y_train)"
   ]
  },
  {
   "cell_type": "code",
   "execution_count": 11,
   "id": "55bc8ce6-c508-4270-9873-f3554803401b",
   "metadata": {},
   "outputs": [],
   "source": [
    "y_pred = model.predict(X_test)"
   ]
  },
  {
   "cell_type": "code",
   "execution_count": 12,
   "id": "e1e08dc0-d3f4-4e23-8e05-cbc3172baadb",
   "metadata": {},
   "outputs": [
    {
     "name": "stdout",
     "output_type": "stream",
     "text": [
      "Accuracy: 0.6669533333333333\n"
     ]
    }
   ],
   "source": [
    "from sklearn import metrics\n",
    "print(\"Accuracy:\",metrics.accuracy_score(y_test, y_pred))"
   ]
  },
  {
   "cell_type": "code",
   "execution_count": 13,
   "id": "d876e03b-e9b4-4d8b-ab9b-8d7f1a60be31",
   "metadata": {},
   "outputs": [
    {
     "name": "stdout",
     "output_type": "stream",
     "text": [
      "Accuracy: 0.6728833333333334\n"
     ]
    }
   ],
   "source": [
    "model = make_pipeline(StandardScaler(),neighbors.KNeighborsClassifier(n_neighbors=9))\n",
    "model.fit(X_train,y_train)\n",
    "y_pred = model.predict(X_test)\n",
    "print(\"Accuracy:\",metrics.accuracy_score(y_test, y_pred))\n"
   ]
  },
  {
   "cell_type": "code",
   "execution_count": 16,
   "id": "e1eaaf2d-eba3-48a7-96a1-b68629cba91b",
   "metadata": {},
   "outputs": [
    {
     "name": "stdout",
     "output_type": "stream",
     "text": [
      "Accuracy: 0.6671033333333334\n"
     ]
    }
   ],
   "source": [
    "model = make_pipeline(StandardScaler(),SGDClassifier())\n",
    "model.fit(X_train,y_train)\n",
    "y_pred = model.predict(X_test)\n",
    "print(\"Accuracy:\",metrics.accuracy_score(y_test, y_pred))"
   ]
  },
  {
   "cell_type": "code",
   "execution_count": null,
   "id": "2413d492-ebb0-4d22-9695-409f25b49e5a",
   "metadata": {},
   "outputs": [],
   "source": []
  }
 ],
 "metadata": {
  "kernelspec": {
   "display_name": "Python 3 (ipykernel)",
   "language": "python",
   "name": "python3"
  },
  "language_info": {
   "codemirror_mode": {
    "name": "ipython",
    "version": 3
   },
   "file_extension": ".py",
   "mimetype": "text/x-python",
   "name": "python",
   "nbconvert_exporter": "python",
   "pygments_lexer": "ipython3",
   "version": "3.9.7"
  }
 },
 "nbformat": 4,
 "nbformat_minor": 5
}
